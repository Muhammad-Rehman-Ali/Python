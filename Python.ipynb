{
 "cells": [
  {
   "cell_type": "markdown",
   "id": "cb30471d-222c-4787-8764-ae40c20acff7",
   "metadata": {},
   "source": [
    "# Complete Python\n",
    "## 1.Print function"
   ]
  },
  {
   "cell_type": "code",
   "execution_count": 1,
   "id": "9ce9f6ee-443e-4fdd-874b-9863e0544e02",
   "metadata": {},
   "outputs": [
    {
     "name": "stdout",
     "output_type": "stream",
     "text": [
      "Hello world\n",
      "hello how are you\n",
      "hello/how/are/you\n",
      "hello-world\n"
     ]
    }
   ],
   "source": [
    "print(\"Hello world\")\n",
    "print(\"hello\",\"how\",\"are\",\"you\")\n",
    "print(\"hello\",\"how\",\"are\",\"you\",sep='/')\n",
    "print(\"hello\",end='-')\n",
    "print(\"world\")"
   ]
  },
  {
   "cell_type": "markdown",
   "id": "8db118c3-620c-4582-91b0-b895c516ade9",
   "metadata": {},
   "source": [
    "### Python support 3 kinds of Data types\n",
    "##### 1- Basic Types (Integer,Float,String,Complex,Boolean)\n",
    "##### 2- Container Types (List,Tuple,Dictionary,Sets)\n",
    "##### 3- User-Defined Types (Class)"
   ]
  },
  {
   "cell_type": "code",
   "execution_count": 2,
   "id": "5be6fad5-43d9-44d4-82d4-2426c31a366f",
   "metadata": {},
   "outputs": [
    {
     "name": "stdout",
     "output_type": "stream",
     "text": [
      "5\n",
      "5.5\n",
      "1.7e+30\n",
      "True\n",
      "hello\n",
      "(4+5j)\n"
     ]
    }
   ],
   "source": [
    "# 1-\n",
    "print(5)         # Integer\n",
    "print(5.5)       # Float\n",
    "print(1.7e30) \n",
    "print(True)      # Boolean\n",
    "print(\"hello\")   # String\n",
    "print(4+5j)      # Complex"
   ]
  },
  {
   "cell_type": "code",
   "execution_count": 15,
   "id": "e9882262-204d-4a74-bfe5-8aa947327f74",
   "metadata": {},
   "outputs": [
    {
     "name": "stdout",
     "output_type": "stream",
     "text": [
      "[1, 2, 3, 4]\n",
      "(1, 2, 3, 4)\n",
      "{1, 2, 3}\n",
      "{'name': 'doctor', 'age': 21}\n"
     ]
    }
   ],
   "source": [
    "#2-\n",
    "print([1,2,3,4])  # List\n",
    "print((1,2,3,4))  # Tuple\n",
    "print({1,2,3})    # Set\n",
    "print({'name':'doctor','age':21})    # Dictionary"
   ]
  },
  {
   "cell_type": "markdown",
   "id": "7daaaf87-ecec-40c8-b31e-af6c959166f0",
   "metadata": {},
   "source": [
    "# Variables"
   ]
  },
  {
   "cell_type": "code",
   "execution_count": 4,
   "id": "c777264f-329c-4f7d-a2d5-40cd746387cc",
   "metadata": {},
   "outputs": [
    {
     "name": "stdout",
     "output_type": "stream",
     "text": [
      "doctor\n",
      "4\n",
      "5\n",
      "4\n",
      "3\n",
      "2\n",
      "5\n",
      "5\n",
      "5\n",
      "5\n"
     ]
    }
   ],
   "source": [
    "# Dynamic typing\n",
    "# No variable Declaration\n",
    "# Dynamic Binding\n",
    "\n",
    "name = \"doctor\"\n",
    "print(name)\n",
    "\n",
    "# Special Syntax\n",
    "a=4;b=5;c=4\n",
    "print(a)\n",
    "print(b)\n",
    "print(c)\n",
    "\n",
    "a,b,c=3,2,5\n",
    "print(a)\n",
    "print(b)\n",
    "print(c)\n",
    "\n",
    "a=b=c=5\n",
    "print(a)\n",
    "print(b)\n",
    "print(c)"
   ]
  },
  {
   "cell_type": "markdown",
   "id": "a2a143fc-c461-4282-8527-574262c90247",
   "metadata": {},
   "source": [
    "# Keywords and Identifiers"
   ]
  },
  {
   "cell_type": "code",
   "execution_count": 5,
   "id": "b9ab2795-e906-43a8-a630-73f49d18b4e8",
   "metadata": {},
   "outputs": [
    {
     "name": "stdout",
     "output_type": "stream",
     "text": [
      "['False', 'None', 'True', 'and', 'as', 'assert', 'async', 'await', 'break', 'class', 'continue', 'def', 'del', 'elif', 'else', 'except', 'finally', 'for', 'from', 'global', 'if', 'import', 'in', 'is', 'lambda', 'nonlocal', 'not', 'or', 'pass', 'raise', 'return', 'try', 'while', 'with', 'yield']\n"
     ]
    }
   ],
   "source": [
    "# In python there is 33 keywords\n",
    "\n",
    "import keyword\n",
    "print(keyword.kwlist)\n",
    "\n",
    "# Identifiers rules\n",
    "# 1- can only start with alphabet or _\n",
    "# 2- Followed by 0 or more letters _ and digits\n",
    "# 3- Keywords cannot be used as identifiers"
   ]
  },
  {
   "cell_type": "markdown",
   "id": "9b99e276-0a2d-411f-9ae1-246c5b5f5815",
   "metadata": {},
   "source": [
    "# Input "
   ]
  },
  {
   "cell_type": "code",
   "execution_count": 6,
   "id": "809df7f9-e63e-4f38-8985-89a096148ce2",
   "metadata": {},
   "outputs": [
    {
     "name": "stdin",
     "output_type": "stream",
     "text": [
      "Enter first number 3\n",
      "Enter second number 2\n"
     ]
    },
    {
     "name": "stdout",
     "output_type": "stream",
     "text": [
      "3\n",
      "2\n"
     ]
    }
   ],
   "source": [
    "# Type of input that you taking from user is always string.\n",
    "\n",
    "first_num = input(\"Enter first number\")\n",
    "second_num = input(\"Enter second number\")\n",
    "print(first_num)\n",
    "print(second_num)"
   ]
  },
  {
   "cell_type": "markdown",
   "id": "8082e9a7-c547-4040-b94f-8b380e324504",
   "metadata": {},
   "source": [
    "# Type Conversion"
   ]
  },
  {
   "cell_type": "code",
   "execution_count": 17,
   "id": "1f7561a8-182e-4896-96ad-61b7ac616f12",
   "metadata": {},
   "outputs": [
    {
     "name": "stdout",
     "output_type": "stream",
     "text": [
      "(7+5j)\n",
      "455\n",
      "4.0\n",
      "(5+0j)\n",
      "['h', 'e', 'l', 'l', 'o']\n",
      "34.0\n",
      "34\n"
     ]
    }
   ],
   "source": [
    "# Implicit\n",
    "# Explicit\n",
    "\n",
    "# Implicit eg    # In implicit python automaticaly convert type.\n",
    "print(3+(4+5j))\n",
    "\n",
    "# Explicit eg    # We performe type conversion in this.\n",
    "print(int('455'))\n",
    "print(float(4))\n",
    "print(complex(5))\n",
    "print(list(\"hello\"))\n",
    "\n",
    "# Type conversion is not a permanent conversion\n",
    "a = 34\n",
    "print(float(a))\n",
    "print(a)"
   ]
  },
  {
   "cell_type": "markdown",
   "id": "ca46ed81-572c-4284-bd66-3770fc250890",
   "metadata": {},
   "source": [
    "# Operators"
   ]
  },
  {
   "cell_type": "code",
   "execution_count": 8,
   "id": "631af398-78e7-49e4-a8c5-460779352cbb",
   "metadata": {},
   "outputs": [
    {
     "name": "stdout",
     "output_type": "stream",
     "text": [
      "7\n",
      "3\n",
      "10\n",
      "1\n",
      "2.5\n",
      "2\n",
      "25\n"
     ]
    }
   ],
   "source": [
    "# Arithmatic operators\n",
    "\n",
    "x,y = 5,2\n",
    "print(x+y)\n",
    "print(x-y)\n",
    "print(x*y)\n",
    "print(x%y)\n",
    "print(x/y)\n",
    "\n",
    "# integer division\n",
    "print(x//y)\n",
    "print(x ** y)"
   ]
  },
  {
   "cell_type": "code",
   "execution_count": 9,
   "id": "286d777c-b67d-414b-aa88-27faa6c7a005",
   "metadata": {},
   "outputs": [
    {
     "name": "stdout",
     "output_type": "stream",
     "text": [
      "False\n",
      "True\n",
      "False\n",
      "True\n",
      "False\n",
      "True\n"
     ]
    }
   ],
   "source": [
    "# Comparison operators\n",
    "\n",
    "x,y=5,2\n",
    "print(x<y)\n",
    "print(x>y)\n",
    "print(x<=y)\n",
    "print(x>=y)\n",
    "print(x==y)\n",
    "print(x!=y)"
   ]
  },
  {
   "cell_type": "code",
   "execution_count": 10,
   "id": "a4c94692-caeb-459a-8be1-34431a97f54c",
   "metadata": {},
   "outputs": [
    {
     "name": "stdout",
     "output_type": "stream",
     "text": [
      "True\n",
      "False\n",
      "False\n"
     ]
    }
   ],
   "source": [
    "# Logical operators\n",
    "\n",
    "x,y = True,False\n",
    "print(x or y)\n",
    "print(x and y)\n",
    "print(not x)"
   ]
  },
  {
   "cell_type": "code",
   "execution_count": 11,
   "id": "f4330f1a-3400-454b-8eb4-208834e0c307",
   "metadata": {},
   "outputs": [
    {
     "name": "stdout",
     "output_type": "stream",
     "text": [
      "4\n"
     ]
    }
   ],
   "source": [
    "# Assignment operators\n",
    "\n",
    "a = 4\n",
    "print(a)\n",
    "a += 3\n",
    "a -=2\n",
    "a *= 4"
   ]
  },
  {
   "cell_type": "code",
   "execution_count": 12,
   "id": "056eacb0-6fd5-49e9-9102-098f61e4445b",
   "metadata": {},
   "outputs": [
    {
     "name": "stdout",
     "output_type": "stream",
     "text": [
      "True\n",
      "False\n",
      "False\n"
     ]
    }
   ],
   "source": [
    "# Membership operator\n",
    "\n",
    "a = \"hello\"\n",
    "print('h' in a)\n",
    "print('h' not in a)\n",
    "l = [1,3,4]\n",
    "print(5 in l)"
   ]
  },
  {
   "cell_type": "markdown",
   "id": "684bf6fe-0b25-4654-bbea-d1cfeeba9ce1",
   "metadata": {},
   "source": [
    "# If-Else Statement"
   ]
  },
  {
   "cell_type": "code",
   "execution_count": 13,
   "id": "0a3f33c4-4f7a-4732-aeb7-7a8532ecd9b0",
   "metadata": {},
   "outputs": [
    {
     "name": "stdin",
     "output_type": "stream",
     "text": [
      "Write your Email: rehmanali332@gmail.com\n",
      "Write your Password: 22\n"
     ]
    },
    {
     "name": "stdout",
     "output_type": "stream",
     "text": [
      "Your password is wrong\n"
     ]
    },
    {
     "name": "stdin",
     "output_type": "stream",
     "text": [
      "Write your password again: 1234\n"
     ]
    },
    {
     "name": "stdout",
     "output_type": "stream",
     "text": [
      "Finally your password is correct\n"
     ]
    }
   ],
   "source": [
    "email = input(\"Write your Email:\")\n",
    "if '@' in email:\n",
    "    password = input(\"Write your Password:\")\n",
    "    if email==\"rehmanali332@gmail.com\" and password==\"1234\":\n",
    "        print(\"Welcome\")\n",
    "    elif email==\"rehmanali332@gmail.com\" and password!=\"1234\":\n",
    "        print(\"Your password is wrong\")\n",
    "        password = input(\"Write your password again:\")\n",
    "        if password==\"1234\":\n",
    "            print(\"Finally your password is correct\")\n",
    "        else:\n",
    "            print(\"Still incorrect\")\n",
    "    else:\n",
    "        print(\"Incorrect credentials\")\n",
    "else:\n",
    "    print(\"Your email is wrong\")"
   ]
  },
  {
   "cell_type": "markdown",
   "id": "58f987ee-1c55-4189-bbaa-dc2097c8472a",
   "metadata": {},
   "source": [
    "# While Loop"
   ]
  },
  {
   "cell_type": "code",
   "execution_count": 14,
   "id": "d1a106d9-8e23-4903-afef-1574f66e3e62",
   "metadata": {},
   "outputs": [
    {
     "name": "stdin",
     "output_type": "stream",
     "text": [
      "Enter a number 5\n"
     ]
    },
    {
     "name": "stdout",
     "output_type": "stream",
     "text": [
      "5 * 1 = 5\n",
      "5 * 2 = 10\n",
      "5 * 3 = 15\n",
      "5 * 4 = 20\n",
      "5 * 5 = 25\n",
      "5 * 6 = 30\n",
      "5 * 7 = 35\n",
      "5 * 8 = 40\n",
      "5 * 9 = 45\n",
      "5 * 10 = 50\n"
     ]
    }
   ],
   "source": [
    "number = int(input(\"Enter a number\"))\n",
    "i = 1\n",
    "while i<11:\n",
    "    print(number,'*',i,'=',number*i)\n",
    "    i+=1"
   ]
  },
  {
   "cell_type": "markdown",
   "id": "20d5275f-2942-442d-a7da-31f2f29499bd",
   "metadata": {},
   "source": [
    "# Guessing game"
   ]
  },
  {
   "cell_type": "code",
   "execution_count": 15,
   "id": "9f8fb421-799b-479a-9a95-71d117fdafe1",
   "metadata": {},
   "outputs": [
    {
     "name": "stdin",
     "output_type": "stream",
     "text": [
      "Guess a number: 45\n"
     ]
    },
    {
     "name": "stdout",
     "output_type": "stream",
     "text": [
      "guess lower\n"
     ]
    },
    {
     "name": "stdin",
     "output_type": "stream",
     "text": [
      "Guess a number: 34\n"
     ]
    },
    {
     "name": "stdout",
     "output_type": "stream",
     "text": [
      "guess lower\n"
     ]
    },
    {
     "name": "stdin",
     "output_type": "stream",
     "text": [
      "Guess a number: 22\n"
     ]
    },
    {
     "name": "stdout",
     "output_type": "stream",
     "text": [
      "guess lower\n"
     ]
    },
    {
     "name": "stdin",
     "output_type": "stream",
     "text": [
      "Guess a number: 11\n"
     ]
    },
    {
     "name": "stdout",
     "output_type": "stream",
     "text": [
      "guess lower\n"
     ]
    },
    {
     "name": "stdin",
     "output_type": "stream",
     "text": [
      "Guess a number: 7\n"
     ]
    },
    {
     "name": "stdout",
     "output_type": "stream",
     "text": [
      "guess lower\n"
     ]
    },
    {
     "name": "stdin",
     "output_type": "stream",
     "text": [
      "Guess a number: 5\n"
     ]
    },
    {
     "name": "stdout",
     "output_type": "stream",
     "text": [
      "guess higher\n"
     ]
    },
    {
     "name": "stdin",
     "output_type": "stream",
     "text": [
      "Guess a number: 6\n"
     ]
    },
    {
     "name": "stdout",
     "output_type": "stream",
     "text": [
      "You guess a correct number\n",
      "Total number of guesses is: 7\n"
     ]
    }
   ],
   "source": [
    "import random\n",
    "\n",
    "jackpot = random.randint(1,100)\n",
    "guess = int(input(\"Guess a number:\"))\n",
    "count = 1\n",
    "while guess != jackpot:\n",
    "    if guess<jackpot:\n",
    "        print(\"guess higher\")\n",
    "    else:\n",
    "        print(\"guess lower\")\n",
    "    guess = int(input(\"Guess a number:\"))\n",
    "    count = count+1\n",
    "print(\"You guess a correct number\")\n",
    "print(\"Total number of guesses is:\", count)"
   ]
  },
  {
   "cell_type": "markdown",
   "id": "2765b025-6cda-4a1a-b06b-aa74b35e2658",
   "metadata": {},
   "source": [
    "# For Loop"
   ]
  },
  {
   "cell_type": "code",
   "execution_count": 16,
   "id": "c53e60e3-348e-40f8-8677-ba09b9afb900",
   "metadata": {},
   "outputs": [
    {
     "name": "stdout",
     "output_type": "stream",
     "text": [
      "[1, 2, 3, 4, 5, 6, 7, 8, 9, 10]\n",
      "[1, 3, 5, 7, 9]\n",
      "[10, 9, 8, 7, 6, 5, 4, 3, 2, 1]\n"
     ]
    }
   ],
   "source": [
    "# If you know how many number of times a loop will work than you use for loop and if you don't know than you use while loop.\n",
    "# range\n",
    "\n",
    "print(list(range(1,11)))\n",
    "print(list(range(1,11,2)))\n",
    "print(list(range(10,0,-1)))"
   ]
  },
  {
   "cell_type": "code",
   "execution_count": 17,
   "id": "05e46f60-c85b-4dbd-838c-206e463322e1",
   "metadata": {},
   "outputs": [
    {
     "name": "stdout",
     "output_type": "stream",
     "text": [
      "1\n",
      "2\n",
      "3\n",
      "4\n",
      "5\n",
      "6\n",
      "7\n",
      "8\n",
      "9\n",
      "10\n",
      "10\n",
      "9\n",
      "8\n",
      "7\n",
      "6\n",
      "5\n",
      "4\n",
      "3\n",
      "2\n",
      "1\n",
      "p\n",
      "u\n",
      "n\n",
      "j\n",
      "a\n",
      "b\n",
      "1\n",
      "2\n",
      "4\n",
      "4\n"
     ]
    }
   ],
   "source": [
    "for i in range(1,11):\n",
    "    print(i)\n",
    "for i in range(10,0,-1):\n",
    "    print(i)\n",
    "for i in \"punjab\":\n",
    "    print(i)\n",
    "for i in [1,2,4,4]:\n",
    "    print(i)"
   ]
  },
  {
   "cell_type": "markdown",
   "id": "7e7316aa-0b39-4dd8-ae51-64c359c8a7ee",
   "metadata": {},
   "source": [
    "# Nested Loop"
   ]
  },
  {
   "cell_type": "code",
   "execution_count": 22,
   "id": "2ca794ac-cfa0-4b98-8352-542c0f7bbd83",
   "metadata": {},
   "outputs": [
    {
     "name": "stdin",
     "output_type": "stream",
     "text": [
      "Enter a Number: 3\n"
     ]
    },
    {
     "name": "stdout",
     "output_type": "stream",
     "text": [
      "* \n",
      "* * \n",
      "* * * \n"
     ]
    }
   ],
   "source": [
    "number = int(input('Enter a Number:'))\n",
    "\n",
    "for i in range(1,number+1):\n",
    "    for j in range(0,i):\n",
    "        print(\"*\",end=\" \")\n",
    "    print('')"
   ]
  },
  {
   "cell_type": "markdown",
   "id": "21dfff06-944f-4f1a-ac92-2ea1d8a3db2a",
   "metadata": {},
   "source": [
    "# Break, Continue, Pass"
   ]
  },
  {
   "cell_type": "code",
   "execution_count": 19,
   "id": "ad3c987f-9243-4358-955d-ac12caba0eb6",
   "metadata": {},
   "outputs": [
    {
     "name": "stdout",
     "output_type": "stream",
     "text": [
      "1\n",
      "2\n",
      "3\n",
      "4\n",
      "1\n",
      "hello\n",
      "2\n",
      "hello\n",
      "3\n",
      "hello\n",
      "4\n",
      "hello\n",
      "6\n",
      "hello\n",
      "7\n",
      "hello\n",
      "8\n",
      "hello\n",
      "9\n",
      "hello\n",
      "10\n",
      "hello\n"
     ]
    }
   ],
   "source": [
    "# Break\n",
    "\n",
    "for i in range(1,11):\n",
    "    if i==5:\n",
    "        break\n",
    "    print(i)\n",
    "    \n",
    "# Continue\n",
    "for i in range(1,11):\n",
    "    if i==5:\n",
    "        continue\n",
    "    print(i)\n",
    "    print(\"hello\")\n",
    "    \n",
    "# Pass\n",
    "for i in range(1,11):\n",
    "    pass"
   ]
  },
  {
   "cell_type": "markdown",
   "id": "c786e8bc-cc31-4e86-b604-9874579a457e",
   "metadata": {},
   "source": [
    "# Built in Functions"
   ]
  },
  {
   "cell_type": "code",
   "execution_count": 20,
   "id": "feb29e02-5d51-49d6-8370-38541814fcce",
   "metadata": {},
   "outputs": [
    {
     "name": "stdout",
     "output_type": "stream",
     "text": [
      "hello\n"
     ]
    },
    {
     "name": "stdin",
     "output_type": "stream",
     "text": [
      "Enter your name: c\n"
     ]
    },
    {
     "name": "stdout",
     "output_type": "stream",
     "text": [
      "5\n",
      "5.0\n",
      "4\n",
      "8\n",
      "0\n",
      "o\n",
      "3.142857142857143\n",
      "3.143\n",
      "(2, 1)\n",
      "0b10\n",
      "0x4\n",
      "140721330133560\n",
      "65\n",
      "6\n",
      "24\n",
      "Help on built-in function print in module builtins:\n",
      "\n",
      "print(*args, sep=' ', end='\\n', file=None, flush=False)\n",
      "    Prints the values to a stream, or to sys.stdout by default.\n",
      "\n",
      "    sep\n",
      "      string inserted between values, default a space.\n",
      "    end\n",
      "      string appended after the last value, default a newline.\n",
      "    file\n",
      "      a file-like object (stream); defaults to the current sys.stdout.\n",
      "    flush\n",
      "      whether to forcibly flush the stream.\n",
      "\n",
      "None\n"
     ]
    }
   ],
   "source": [
    "# 1-Print\n",
    "print(\"hello\")\n",
    "\n",
    "# 2-Input\n",
    "input(\"Enter your name:\")\n",
    "\n",
    "# 3-Type\n",
    "a=3.5\n",
    "type(a)\n",
    "\n",
    "# 4-Type conversion\n",
    "print(int(5.6))\n",
    "print(float(5))\n",
    "\n",
    "# 5-absolute\n",
    "print(abs(-4))\n",
    "\n",
    "# 6-Power\n",
    "print(pow(2,3))\n",
    "\n",
    "# 7-min/max\n",
    "print(min([2,5,6,0,8,6]))\n",
    "print(max('hellog'))\n",
    "\n",
    "# 8-round\n",
    "c=22/7\n",
    "print(c)\n",
    "print(round(c,3))\n",
    "\n",
    "# 9-divmod\n",
    "print(divmod(5,2))\n",
    "\n",
    "# 10-hexadicimal,decimal value\n",
    "print(bin(2))\n",
    "print(hex(4))\n",
    "\n",
    "# 11-id\n",
    "b=5\n",
    "print(id(b))\n",
    "\n",
    "# 12-ord\n",
    "print(ord('A'))\n",
    "\n",
    "# 13-len\n",
    "print(len(\"lahore\"))\n",
    "\n",
    "# 14-sum\n",
    "print(sum([4,5,7,8]))\n",
    "\n",
    "# 15-help\n",
    "print(help('print'))"
   ]
  },
  {
   "cell_type": "markdown",
   "id": "b3f7ca50-84ee-444a-a518-24963566da65",
   "metadata": {},
   "source": [
    "# Built in Modules"
   ]
  },
  {
   "cell_type": "code",
   "execution_count": 21,
   "id": "0950074c-3dd5-4406-8293-d230141c9d18",
   "metadata": {},
   "outputs": [
    {
     "name": "stdout",
     "output_type": "stream",
     "text": [
      "3.141592653589793\n",
      "2.718281828459045\n",
      "120\n",
      "10.0\n",
      "26\n",
      "[6, 1, 3, 5]\n",
      "1737569504.9297535\n",
      "Wed Jan 22 23:11:44 2025\n",
      "C:\\Users\\PMLS\\Desktop\\Python Campus X\n",
      "['.ipynb_checkpoints', 'Python.ipynb']\n"
     ]
    }
   ],
   "source": [
    "import math\n",
    "import time\n",
    "import os\n",
    "import random\n",
    "\n",
    "# math\n",
    "\n",
    "print(math.pi)\n",
    "print(math.e)\n",
    "print(math.factorial(5))\n",
    "print(math.sqrt(100))\n",
    "\n",
    "# random\n",
    "\n",
    "print(random.randint(1,100))\n",
    "\n",
    "a=[1,3,5,6]\n",
    "random.shuffle(a)\n",
    "print(a)\n",
    "\n",
    "# time\n",
    "\n",
    "print(time.time())\n",
    "print(time.ctime())\n",
    "\n",
    "# os\n",
    "\n",
    "print(os.getcwd())\n",
    "print(os.listdir())"
   ]
  },
  {
   "cell_type": "markdown",
   "id": "f12eebc1-faa2-4a00-81dc-0c360a8280b7",
   "metadata": {},
   "source": [
    "# Strings"
   ]
  },
  {
   "cell_type": "code",
   "execution_count": 22,
   "id": "136f55ca-cfec-4bde-a443-a246ed98cdbb",
   "metadata": {},
   "outputs": [
    {
     "name": "stdout",
     "output_type": "stream",
     "text": [
      "hello\n",
      "hello\n",
      "how are\n",
      "you\n",
      "hello\n"
     ]
    }
   ],
   "source": [
    "# String is a sequence of characters\n",
    "\n",
    "c = \"hello\"\n",
    "print(c)\n",
    "c = '''hello\n",
    "how are\n",
    "you'''\n",
    "print(c)\n",
    "c = str('hello')\n",
    "print(c)"
   ]
  },
  {
   "cell_type": "markdown",
   "id": "524258a8-7edb-42ef-939e-c30973ece531",
   "metadata": {},
   "source": [
    "### Accessing substring from a string"
   ]
  },
  {
   "cell_type": "code",
   "execution_count": 23,
   "id": "c8cbab48-c682-456b-9562-c135f1e17f96",
   "metadata": {},
   "outputs": [
    {
     "name": "stdout",
     "output_type": "stream",
     "text": [
      "h\n",
      "e\n",
      "hell\n",
      "lcom\n",
      "hell\n",
      "hlo\n",
      "emoclewolleh\n"
     ]
    }
   ],
   "source": [
    "# Accessing\n",
    "\n",
    "c = \"hellowelcome\"\n",
    "print(c[0])\n",
    "print(c[-1])\n",
    "\n",
    "# Slicing\n",
    "\n",
    "print(c[0:4])\n",
    "print(c[-5:-1])\n",
    "print(c[:4])\n",
    "print(c[0:5:2])\n",
    "# reverse a string\n",
    "print(c[::-1])"
   ]
  },
  {
   "cell_type": "markdown",
   "id": "5172157a-0aa7-494d-9666-2f9d95a83d8f",
   "metadata": {},
   "source": [
    "### Editing and Deleting"
   ]
  },
  {
   "cell_type": "code",
   "execution_count": 24,
   "id": "fe1839e1-7c85-4010-ae49-9e44577333ff",
   "metadata": {},
   "outputs": [],
   "source": [
    "# Strings are a Immutable data type.\n",
    "\n",
    "# so editing and deleting from  a specific index in string is not possible.\n",
    "\n",
    "# Deleting\n",
    "\n",
    "c = 'hello'\n",
    "del c\n"
   ]
  },
  {
   "cell_type": "markdown",
   "id": "bff8eafc-d012-446c-be50-aa0a8e6de421",
   "metadata": {},
   "source": [
    "### String operations\n",
    "##### 1-Arithmetic\n",
    "##### 2-Relatonal\n",
    "##### 3-Logical\n",
    "##### 4-Loops\n",
    "##### 5-Membership"
   ]
  },
  {
   "cell_type": "code",
   "execution_count": 25,
   "id": "702a9403-8959-408f-888e-8da2a388db97",
   "metadata": {},
   "outputs": [
    {
     "name": "stdout",
     "output_type": "stream",
     "text": [
      "hello-world\n",
      "*******\n",
      "hellohellohellohello\n",
      "False\n",
      "True\n",
      "True\n",
      "h\n",
      "e\n",
      "l\n",
      "l\n",
      "o\n",
      " \n",
      "w\n",
      "o\n",
      "r\n",
      "l\n",
      "d\n",
      "d\n",
      "l\n",
      "r\n",
      "o\n",
      "w\n",
      " \n",
      "o\n",
      "l\n",
      "l\n",
      "e\n",
      "h\n",
      "True\n",
      "False\n"
     ]
    }
   ],
   "source": [
    "# Arithmetic\n",
    "\n",
    "print(\"hello\" + \"-\" + \"world\")\n",
    "print(\"*\"*7)\n",
    "print(\"hello\"*4)\n",
    "\n",
    "# Relational\n",
    "print(\"hello\" == \"world\")\n",
    "print('hello' != \"world\")\n",
    "print('hello' < 'world') # lexiographical\n",
    "\n",
    "# Loops\n",
    "c = 'hello world'\n",
    "for i in c:\n",
    "    print(i)\n",
    "for i in c[::-1]:\n",
    "    print(i)\n",
    "\n",
    "# Membership\n",
    "c = 'hello world'\n",
    "print('h' in c)\n",
    "print('hello' not in c)"
   ]
  },
  {
   "cell_type": "markdown",
   "id": "bfe07cf3-ebd7-4fbf-8c4b-2441b98e6a19",
   "metadata": {},
   "source": [
    "## String Functions"
   ]
  },
  {
   "cell_type": "code",
   "execution_count": 26,
   "id": "a0e70ba5-7132-4dcf-98f9-c0bdcfdeec65",
   "metadata": {},
   "outputs": [
    {
     "name": "stdout",
     "output_type": "stream",
     "text": [
      " \n",
      "l\n",
      "10\n",
      "[' ', ' ', 'a', 'a', 'a', 'h', 'h', 'i', 'k', 'l']\n",
      "['l', 'k', 'i', 'h', 'h', 'a', 'a', 'a', ' ', ' ']\n",
      "Pakistan\n",
      "It Is Raining Today\n",
      "PAKISTAN\n",
      "pakistan\n",
      "lAhORe\n"
     ]
    }
   ],
   "source": [
    "# Common Functions\n",
    "# (len, max, min, sorted)\n",
    "\n",
    "a='kia hal ha'\n",
    "print(min(a))\n",
    "print(max(a))\n",
    "print(len(a))\n",
    "print(sorted(a))\n",
    "print(sorted(a,reverse=True))\n",
    "\n",
    "# other functons that apply only strings\n",
    "# 1-(Capitalize, Title, Upper, Lower, Swapcase)\n",
    "c = 'pakistan'\n",
    "print(c.capitalize())\n",
    "\n",
    "print(\"it is raining today\".title())\n",
    "\n",
    "print(c.upper())\n",
    "print(c.lower())\n",
    "\n",
    "# change lower to upper and upper to lower\n",
    "print(\"LaHorE\".swapcase())"
   ]
  },
  {
   "cell_type": "code",
   "execution_count": 27,
   "id": "85277717-c72e-4992-83fb-dc6ec73225fd",
   "metadata": {},
   "outputs": [
    {
     "name": "stdout",
     "output_type": "stream",
     "text": [
      "4\n",
      "1\n",
      "0\n",
      "6\n",
      "True\n",
      "True\n",
      "Hello my name is doctor and i am 21\n",
      "Hello my name is 21 and i am doctor\n",
      "Hello my name is doctor and i am 21\n",
      "False\n",
      "True\n",
      "['I', 'am', 'the', 'owner', 'of', 'this', 'company']\n",
      "['I am the owner ', ' this company']\n",
      "I am the owner of this company\n",
      "My name is Rehman Ali\n",
      "doctor\n"
     ]
    }
   ],
   "source": [
    "# 2-(Count, find, endswith/startswith, format, isdigit/is.identifier.. ,split, join, replace, strip)\n",
    "# count\n",
    "print('it is raining today'.count('i'))\n",
    "print('it is raining today'.count('ing'))\n",
    "\n",
    "# Find\n",
    "print('it is raining today'.find('i'))\n",
    "print('it is raining today'.index('rain'))\n",
    "\n",
    "# Endswith/Startswith\n",
    "print('it is raining today'.endswith('day'))\n",
    "print('it is raining today'.startswith('it'))\n",
    "\n",
    "# Format\n",
    "print(\"Hello my name is {} and i am {}\".format(\"doctor\",21))\n",
    "print(\"Hello my name is {1} and i am {0}\".format(\"doctor\",21))\n",
    "print(\"Hello my name is {name} and i am {age}\".format(name=\"doctor\",age=21))\n",
    "\n",
    "# isdigit..\n",
    "print(\"20A\".isdigit())\n",
    "print(\"hello_world\".isidentifier())\n",
    "\n",
    "# Split\n",
    "print(\"I am the owner of this company\".split())\n",
    "print(\"I am the owner of this company\".split('of'))\n",
    "\n",
    "# Join\n",
    "print(\" \".join([\"I\",\"am\",\"the\",\"owner\",\"of\",\"this\",\"company\"]))\n",
    "\n",
    "# Replace\n",
    "print(\"My name is doctor\".replace(\"doctor\",\"Rehman Ali\"))\n",
    "\n",
    "# Strip\n",
    "name = \"     doctor     \"\n",
    "print(name.strip())"
   ]
  },
  {
   "cell_type": "markdown",
   "id": "7902e864-4c01-4246-a82d-fab2b7c2af28",
   "metadata": {},
   "source": [
    "# List"
   ]
  },
  {
   "cell_type": "code",
   "execution_count": 28,
   "id": "6c0fabe9-8ac5-441d-807d-65c48b385b4d",
   "metadata": {},
   "outputs": [
    {
     "name": "stdout",
     "output_type": "stream",
     "text": [
      "[1, 2, 3, 4]\n",
      "[2, True, 'hello', 3.4]\n",
      "[1, 2, 3, [3, 5]]\n",
      "[[[1, 2], [3, 4]], [[5, 4], [6, 7]]]\n",
      "['h', 'e', 'l', 'l', 'o']\n"
     ]
    }
   ],
   "source": [
    "# Array = homogenous (aik he data type)  Arrays are much faster\n",
    "# List = hetrogenous (store values of multiple data types) List are more programmer friendly\n",
    "\n",
    "# homogenous list\n",
    "l = [1,2,3,4]\n",
    "print(l)\n",
    "\n",
    "# Hetrogenous list\n",
    "l = [2,True,\"hello\",3.4]\n",
    "print(l)\n",
    "\n",
    "# Multi-Dimensional list\n",
    "# 2D list\n",
    "l = [1,2,3,[3,5]]\n",
    "print(l)\n",
    "\n",
    "# 3D list\n",
    "l = [[[1,2],[3,4]],[[5,4],[6,7]]]\n",
    "print(l)\n",
    "\n",
    "l = list('hello')\n",
    "print(l)"
   ]
  },
  {
   "cell_type": "code",
   "execution_count": 29,
   "id": "147e6f78-22f6-4b8b-9bac-fa0beb2a5eab",
   "metadata": {},
   "outputs": [
    {
     "name": "stdout",
     "output_type": "stream",
     "text": [
      "1\n",
      "5\n",
      "5\n",
      "6\n",
      "4\n"
     ]
    }
   ],
   "source": [
    "# Access a list\n",
    "l = [1,2,3]\n",
    "print(l[0])\n",
    "\n",
    "# 2d\n",
    "l1 = [1,2,3,[5,4]]\n",
    "print(l1[-1][0])\n",
    "print(l1[3][0])\n",
    "\n",
    "# 3d\n",
    "l2 = [[[1,2],[3,4]],[[5,4],[6,7]]]\n",
    "print(l2[1][1][0])\n",
    "print(l2[0][-1][-1])"
   ]
  },
  {
   "cell_type": "code",
   "execution_count": 30,
   "id": "2bd17da1-35cb-44ae-954d-4870428be1f0",
   "metadata": {},
   "outputs": [
    {
     "name": "stdout",
     "output_type": "stream",
     "text": [
      "[100, 200, 300, 400, 500]\n"
     ]
    }
   ],
   "source": [
    "# Edit a list\n",
    "# list in python are mutable\n",
    "\n",
    "l = [1,2,3,4,5]\n",
    "l[0]=100\n",
    "l[-1]=500\n",
    "l[1:4]=[200,300,400]\n",
    "print(l)"
   ]
  },
  {
   "cell_type": "code",
   "execution_count": 31,
   "id": "abede45d-b8b0-4ba7-82ba-c7f5d147b968",
   "metadata": {},
   "outputs": [
    {
     "name": "stdout",
     "output_type": "stream",
     "text": [
      "[1, 'wow', 2, 3, 4, 5, 6, 'hello', 7, 5]\n"
     ]
    }
   ],
   "source": [
    "# Add new items in a list\n",
    "# 1-Append, 2-Extend, 3-Insert\n",
    "\n",
    "l=[1,2,3,4,5]\n",
    "l.append(6)\n",
    "l.append('hello')\n",
    "l.extend([7,5])\n",
    "l.insert(1,'wow')\n",
    "print(l)"
   ]
  },
  {
   "cell_type": "code",
   "execution_count": 32,
   "id": "f10948a9-48d5-4cd5-92e8-d98d5bf90626",
   "metadata": {},
   "outputs": [
    {
     "name": "stdout",
     "output_type": "stream",
     "text": [
      "['wow', 2, 3, 4, 5, 6, 'hello', 7, 5]\n",
      "[2, 3, 4, 5, 6, 'hello', 7, 5]\n",
      "[2, 3, 4, 5, 6, 'hello', 7]\n",
      "[]\n"
     ]
    }
   ],
   "source": [
    "# Delete items from list\n",
    "# 1-del, 2-remove, 3-pop, 4-clear\n",
    "\n",
    "l=[1, 'wow', 2, 3, 4, 5, 6, 'hello', 7, 5]\n",
    "del l[0]\n",
    "print(l)\n",
    "l.remove('wow')\n",
    "print(l)\n",
    "l.pop()\n",
    "print(l)\n",
    "l.clear()\n",
    "print(l)\n",
    "del l"
   ]
  },
  {
   "cell_type": "code",
   "execution_count": 33,
   "id": "abd984b3-2cd2-4937-bdf6-c9fdc2aaee11",
   "metadata": {},
   "outputs": [
    {
     "name": "stdout",
     "output_type": "stream",
     "text": [
      "[3, 3, 5, 6]\n",
      "[6, 5, 3, 3]\n"
     ]
    }
   ],
   "source": [
    "# Operations as same like strings (add,multiply,loop)\n",
    "# Functions are also same like string (len,sorted,max,min,index,title)\n",
    "# sort for permanent changes\n",
    "\n",
    "l = [3,5,6,3]\n",
    "l.sort()\n",
    "print(l)\n",
    "l.sort(reverse=True)\n",
    "print(l)"
   ]
  },
  {
   "cell_type": "code",
   "execution_count": 34,
   "id": "960c10e8-d710-4f66-8786-e8cc33eabc7e",
   "metadata": {},
   "outputs": [
    {
     "name": "stdout",
     "output_type": "stream",
     "text": [
      "['hello', 'how', 'are', 'you?']\n",
      "Hello\n",
      "How\n",
      "Are\n",
      "You?\n",
      "['Hello', 'How', 'Are', 'You?']\n",
      "Hello How Are You?\n",
      "<class 'list'>\n"
     ]
    }
   ],
   "source": [
    "# make logics like if we capatlize first chracter\n",
    "\n",
    "sample = \"hello how are you?\"\n",
    "print(sample.split())\n",
    "L = []\n",
    "for i in sample.split():\n",
    "    print(i.capitalize())\n",
    "    L.append(i.capitalize())\n",
    "\n",
    "print(L)\n",
    "print(\" \".join(L))\n",
    "print(type(L))"
   ]
  },
  {
   "cell_type": "code",
   "execution_count": 35,
   "id": "c4ac0a6e-9496-46d4-972a-60cbf6b924e4",
   "metadata": {},
   "outputs": [
    {
     "name": "stdout",
     "output_type": "stream",
     "text": [
      "rehman\n",
      "[1, 2, 3, 4]\n"
     ]
    }
   ],
   "source": [
    "email = \"rehman@5963\"\n",
    "print(email[:email.find(\"@\")])\n",
    "\n",
    "L1 = [1,1,2,2,3,3,4,4,4]\n",
    "L2 = [1,2,3,3]\n",
    "\n",
    "L3 = []\n",
    "for i in L1:\n",
    "    if i not in L3:\n",
    "        L3.append(i)\n",
    "print(L3)"
   ]
  },
  {
   "cell_type": "markdown",
   "id": "fe0619b0-93a5-490f-b99a-f2617af3e878",
   "metadata": {},
   "source": [
    "# Tuple"
   ]
  },
  {
   "cell_type": "code",
   "execution_count": 36,
   "id": "98ea2794-a69f-4997-af5c-8517906c5958",
   "metadata": {},
   "outputs": [
    {
     "name": "stdout",
     "output_type": "stream",
     "text": [
      "(1, 2, 3)\n",
      "(1, 2, (3, 4))\n",
      "<class 'int'>\n",
      "<class 'str'>\n",
      "<class 'tuple'>\n",
      "('l', 'a', 'h', 'o', 'r', 'e')\n",
      "(1, 2, 3)\n",
      "[1, 2, 3, 3, 6]\n",
      "[6, 3, 3, 2, 1]\n"
     ]
    }
   ],
   "source": [
    "# homogenous and hetrogenous tuples\n",
    "# Tuples are immutable\n",
    "\n",
    "t = (1,2,3)\n",
    "print(t)\n",
    "t = (1,2,(3,4))\n",
    "print(t)\n",
    "\n",
    "# Single item tuples\n",
    "t = (4)\n",
    "print(type(t))\n",
    "t = (\"hello\")\n",
    "print(type(t))\n",
    "t = (\"hello\",)\n",
    "print(type(t))\n",
    "\n",
    "t1 = tuple(\"lahore\")\n",
    "print(t1)\n",
    "t2 = tuple([1,2,3])\n",
    "print(t2)\n",
    "\n",
    "# Accessing tuple is same like string or list\n",
    "# Edit Tuple is same like string immutable\n",
    "# And you also didn't add anything in tuple\n",
    "# delete\n",
    "del(t)\n",
    "# Opperations (Concatinate,Multiply,loop,Membership) (t+t1, t*3,not in tuple)\n",
    "# Functions (len,min/max,sorted,sum) \n",
    "t3 = (3,6,2,1,3)\n",
    "print(sorted(t3))\n",
    "print(sorted(t3,reverse=True))\n",
    "# Tuples are read only data type"
   ]
  },
  {
   "cell_type": "markdown",
   "id": "196ecadd-6827-4fd9-993e-6fcdc914ad79",
   "metadata": {},
   "source": [
    "# Sets"
   ]
  },
  {
   "cell_type": "code",
   "execution_count": 37,
   "id": "3ba8e681-f422-481a-81cc-7cadf73ce129",
   "metadata": {},
   "outputs": [
    {
     "name": "stdout",
     "output_type": "stream",
     "text": [
      "<class 'set'>\n",
      "{1, 2, 3}\n",
      "{'hello', True, 2, 4.5}\n",
      "{1, 2, (1, 2)}\n",
      "{1, 2, 3}\n",
      "2151970697536\n",
      "[100, 2, 3]\n",
      "{2, 3, 100}\n",
      "2151970699776\n",
      "{2, 3, 100, 7}\n",
      "{2, 100, 7}\n",
      "{100, 7}\n",
      "{True, 2, 100, 4.5, 7, 'hello'}\n",
      "set()\n"
     ]
    }
   ],
   "source": [
    "# 1-Sets donot allow duplicates. 2- Sets have no Indexing/Slicing\n",
    "# 3- Sets donot allow mutable data types  4- Sets itself a mutable data type\n",
    "# Create a empty set\n",
    "s = set()\n",
    "print(type(s))\n",
    "s = {1,2,3}\n",
    "print(s)\n",
    "s2 = {'hello',True,2,4.5}\n",
    "print(s2)\n",
    "s3 = {(1,2),1,2}\n",
    "print(s3)\n",
    "# Sets have no indexing\n",
    "# Hashing\n",
    "# 2d sets are not possible\n",
    "\n",
    "# edit\n",
    "print(s)\n",
    "print(id(s))\n",
    "l = list(s)\n",
    "l[0]=100\n",
    "print(l)\n",
    "s = set(l)\n",
    "print(s)\n",
    "print(id(s))\n",
    "\n",
    "# add\n",
    "s.add(7)\n",
    "print(s)\n",
    "\n",
    "#delete\n",
    "s.remove(3)\n",
    "print(s)\n",
    "s.pop()\n",
    "print(s)\n",
    "\n",
    "# Set operations (loop,membership) (*,+ not available)\n",
    "# Functons (max,min,sorted,sum,union,intersection,difference,symmetric_difference,isdisjoint,issubset,issuperset)\n",
    "print(s.union(s2))\n",
    "print(s.intersection(s2))"
   ]
  },
  {
   "cell_type": "markdown",
   "id": "123c50ef-faa7-47da-bb6b-f3a3e4b39e6c",
   "metadata": {},
   "source": [
    "# Dictionary"
   ]
  },
  {
   "cell_type": "code",
   "execution_count": 38,
   "id": "471f8c6c-a623-4be9-99ec-dad62850d638",
   "metadata": {},
   "outputs": [
    {
     "name": "stdout",
     "output_type": "stream",
     "text": [
      "{'Name': 'doctor', 'age': 21}\n",
      "{'Name': 'Doctor', 'College': 'PGC', 'Marks': {'S1': 89, 'S2': 90}}\n",
      "doctor\n",
      "90\n",
      "21\n",
      "{'Name': 'Rehman Ali', 'age': 21}\n",
      "{'Name': 'Doctor', 'College': 'PGC', 'Marks': {'S1': 89, 'S2': 98}}\n",
      "{'Name': 'Rehman Ali', 'age': 21, 'Gender': 'Male'}\n",
      "{'Name': 'Doctor', 'College': 'PGC', 'Marks': {'S1': 89, 'S2': 98, 'S3': 88}}\n",
      "{'Name': 'Rehman Ali', 'age': 21}\n",
      "{}\n",
      "Name Doctor\n",
      "College PGC\n",
      "Marks {'S1': 89, 'S2': 98, 'S3': 88}\n"
     ]
    }
   ],
   "source": [
    "# 1-Dictionary has no indexing  2-Dictionary has mutable data type just like list and sets\n",
    "# 3-keys should always be immutable, values can be mutable  4-Keys should be unique\n",
    "# Mutable data types(Sets,List,Dictionary)\n",
    "# Immutable data types(Strings,tuple,int,float,complex,boolean)\n",
    "\n",
    "d = {'Name':'doctor','age':21}\n",
    "print(d)\n",
    "\n",
    "# 2d\n",
    "d1 = {\"Name\":\"Doctor\",\"College\":\"PGC\",\"Marks\":{\"S1\":89,\"S2\":90}}\n",
    "print(d1)\n",
    "\n",
    "# Accessing\n",
    "print(d['Name'])\n",
    "print(d1[\"Marks\"][\"S2\"])\n",
    "print(d.get('age'))\n",
    "\n",
    "# Edit\n",
    "d['Name']='Rehman Ali'\n",
    "print(d)\n",
    "d1[\"Marks\"][\"S2\"]=98\n",
    "print(d1)\n",
    "\n",
    "# Add new\n",
    "d['Gender']='Male'\n",
    "print(d)\n",
    "d1[\"Marks\"][\"S3\"]=88\n",
    "print(d1)\n",
    "\n",
    "# Delete \n",
    "del d['Gender']\n",
    "print(d)\n",
    "d.clear()\n",
    "print(d)\n",
    "\n",
    "# operations (loops,membership(keys))\n",
    "for i in d1:\n",
    "    print(i,d1[i])\n",
    "\n",
    "# Functions(min,max,sorted,len,d.keys(),d.values())"
   ]
  },
  {
   "cell_type": "markdown",
   "id": "5fb47470-598a-460b-88c2-e820d9331da6",
   "metadata": {},
   "source": [
    "# Functions"
   ]
  },
  {
   "cell_type": "code",
   "execution_count": 39,
   "id": "3f0d84be-c4d5-45a2-9d65-9c5155e3d3d6",
   "metadata": {},
   "outputs": [
    {
     "name": "stdout",
     "output_type": "stream",
     "text": [
      "Even\n",
      "Odd\n",
      "Even\n",
      "Odd\n",
      "Even\n",
      "Odd\n",
      "Even\n",
      "Odd\n",
      "Even\n",
      "Odd\n",
      "Even\n",
      "Not Working\n",
      "\n",
      "    This function tells us is given number is even or odd number.\n",
      "    :param number: Any valid integer number\n",
      "    :return: even/odd\n",
      "    Created by: Muhammad Rehman Ali\n",
      "    Last edit: 20-1-2025\n",
      "    \n"
     ]
    }
   ],
   "source": [
    "def is_even(number):\n",
    "    '''\n",
    "    This function tells us is given number is even or odd number.\n",
    "    :param number: Any valid integer number\n",
    "    :return: even/odd\n",
    "    Created by: Muhammad Rehman Ali\n",
    "    Last edit: 20-1-2025\n",
    "    '''\n",
    "    if type(number) == int:\n",
    "        if number%2==0:\n",
    "            return \"Even\"\n",
    "        else:\n",
    "            return \"Odd\"\n",
    "    else:\n",
    "        return \"Not Working\"\n",
    "\n",
    "print(is_even(2))\n",
    "for i in range(1,11):\n",
    "    print(is_even(i))\n",
    "print(is_even('hello'))\n",
    "print(is_even.__doc__)"
   ]
  },
  {
   "cell_type": "markdown",
   "id": "469380ec-6f7d-40b0-b651-4b574a2bf0dd",
   "metadata": {},
   "source": [
    "## Parameters vs Arguments in Function\n",
    "#### 1. Default Arguments\n",
    "#### 2. Possitional Arguments\n",
    "#### 3. Keyword Arguments\n",
    "#### 4. Arbitrary Arguments"
   ]
  },
  {
   "cell_type": "code",
   "execution_count": 40,
   "id": "eb78ddec-d687-48e4-a808-176ec079beae",
   "metadata": {},
   "outputs": [
    {
     "name": "stdout",
     "output_type": "stream",
     "text": [
      "8\n",
      "2\n",
      "1\n",
      "9\n"
     ]
    }
   ],
   "source": [
    "# like if in our funtion we have two parameters e.g (def pow(a,b)) and when we write function name for getting its output like\n",
    "# pow(3) here we give only one argument so our function crashed so we use \"Default Arguments\".\n",
    "# order pow(a,b) , pow(2,3) a=2,b=3 is \"Possitional Arguments\".\n",
    "\n",
    "def power(a=1,b=1):\n",
    "    return a**b\n",
    "print(power(2,3))\n",
    "print(power(2))\n",
    "print(power())\n",
    "\n",
    "# keyword argument\n",
    "print(power(b=2,a=3))"
   ]
  },
  {
   "cell_type": "markdown",
   "id": "db4500f0-5556-453f-8b8d-d2b30c8063d4",
   "metadata": {},
   "source": [
    "### Differnt Function Examples for understanding Function"
   ]
  },
  {
   "cell_type": "code",
   "execution_count": 41,
   "id": "92beb397-208d-4550-b402-36f77cda8ecb",
   "metadata": {},
   "outputs": [
    {
     "name": "stdout",
     "output_type": "stream",
     "text": [
      "2\n",
      "5\n"
     ]
    }
   ],
   "source": [
    "# 1.\n",
    "def f(y):\n",
    "    x = 1\n",
    "    x +=1\n",
    "    print(x)\n",
    "x=5\n",
    "f(x)\n",
    "print(x)"
   ]
  },
  {
   "cell_type": "code",
   "execution_count": 42,
   "id": "fedeb511-a933-46a3-856c-5c57af3ddc7a",
   "metadata": {},
   "outputs": [
    {
     "name": "stdout",
     "output_type": "stream",
     "text": [
      "inside fun_a\n",
      "None\n"
     ]
    }
   ],
   "source": [
    "# 2.\n",
    "def fun_a():\n",
    "    print('inside fun_a')\n",
    "print(fun_a())"
   ]
  },
  {
   "cell_type": "code",
   "execution_count": 43,
   "id": "38d1cafb-ea29-4216-9efd-276b36e163fd",
   "metadata": {},
   "outputs": [
    {
     "name": "stdout",
     "output_type": "stream",
     "text": [
      "5\n",
      "6\n",
      "5\n"
     ]
    }
   ],
   "source": [
    "# 3.\n",
    "# If functions has not its own local variabe than it use a global variable\n",
    "def g(y):\n",
    "    print(x)\n",
    "    print((x+1))\n",
    "\n",
    "x = 5\n",
    "g(x)\n",
    "print(x)"
   ]
  },
  {
   "cell_type": "code",
   "execution_count": 44,
   "id": "52ab145a-4146-49c4-bfc7-5a84eac5ee0e",
   "metadata": {},
   "outputs": [
    {
     "name": "stdout",
     "output_type": "stream",
     "text": [
      "6\n"
     ]
    }
   ],
   "source": [
    "# 4.\n",
    "# you cannot change global variable from inside function but by this method you can change\n",
    "\n",
    "def h(y):\n",
    "    global x\n",
    "    x+=1\n",
    "x=5\n",
    "h(x)\n",
    "print(x)"
   ]
  },
  {
   "cell_type": "markdown",
   "id": "195cd72a-3c0d-4958-8f05-6c9082c83dc4",
   "metadata": {},
   "source": [
    "## Nested Function"
   ]
  },
  {
   "cell_type": "code",
   "execution_count": 45,
   "id": "8d1836a5-e64a-49e9-9c35-a5aac9e354f3",
   "metadata": {},
   "outputs": [
    {
     "name": "stdout",
     "output_type": "stream",
     "text": [
      "Inside f\n",
      "Inside g\n"
     ]
    }
   ],
   "source": [
    "# g() in nested functions our main function does not know about inside function (nested function)\n",
    "\n",
    "def f():\n",
    "    print(\"Inside f\")\n",
    "    def g():\n",
    "        print(\"Inside g\")\n",
    "    g()\n",
    "\n",
    "f()"
   ]
  },
  {
   "cell_type": "markdown",
   "id": "4306933e-2a45-4ee7-8117-2b5bd2bd25a6",
   "metadata": {},
   "source": [
    "## In Python every thing is object\n",
    "## Function is also a object"
   ]
  },
  {
   "cell_type": "code",
   "execution_count": 46,
   "id": "c1623375-2db4-4d3e-b4f3-c9118c147f63",
   "metadata": {},
   "outputs": [
    {
     "name": "stdout",
     "output_type": "stream",
     "text": [
      "4\n",
      "4\n",
      "9\n",
      "9\n",
      "[1, 2, 3, 25]\n"
     ]
    }
   ],
   "source": [
    "# so by considering function as object we do these things\n",
    "\n",
    "def f(num):\n",
    "    return num**2\n",
    "    \n",
    "print(f(2))\n",
    "\n",
    "# Aliasing as like variable because function is also a object\n",
    "x=f\n",
    "print(x(2))\n",
    "\n",
    "del f\n",
    "# print(f(3))\n",
    "print(x(3))\n",
    "\n",
    "L=[1,2,3,x]\n",
    "print(L[-1](3))\n",
    "\n",
    "l1=[1,2,3,x(5)]\n",
    "print(l1)"
   ]
  },
  {
   "cell_type": "code",
   "execution_count": 47,
   "id": "bc2fe9e5-b1b2-467f-8588-99a6bf14bfe3",
   "metadata": {},
   "outputs": [
    {
     "name": "stdout",
     "output_type": "stream",
     "text": [
      "Inside fun_c\n",
      "Inside fun_a\n",
      "None\n"
     ]
    }
   ],
   "source": [
    "# Function as input\n",
    "\n",
    "def fun_a():\n",
    "    print('Inside fun_a')\n",
    "def fun_c(z):\n",
    "    print('Inside fun_c')\n",
    "    return z()\n",
    "\n",
    "print(fun_c(fun_a))"
   ]
  },
  {
   "cell_type": "code",
   "execution_count": 48,
   "id": "3c7f9cbc-aa61-45cd-a2b2-0e82b0fa9c08",
   "metadata": {},
   "outputs": [
    {
     "name": "stdout",
     "output_type": "stream",
     "text": [
      "7\n"
     ]
    }
   ],
   "source": [
    "# Function return\n",
    "\n",
    "def f():\n",
    "    def x(a,b):\n",
    "        return a+b\n",
    "    return x\n",
    "val = f() (3,4)\n",
    "print(val)"
   ]
  },
  {
   "cell_type": "code",
   "execution_count": 49,
   "id": "3074c895-3302-4f59-a1a8-1aa3caef4e5b",
   "metadata": {},
   "outputs": [
    {
     "name": "stdout",
     "output_type": "stream",
     "text": [
      "16\n"
     ]
    }
   ],
   "source": [
    "# for like 4*4=16 we build logic like (4+4+4+4)=16.\n",
    "\n",
    "def multiply (a,b):\n",
    "    result = 0\n",
    "    for i in range(b):\n",
    "        result = result + a\n",
    "    return result\n",
    "print(multiply(4,4))"
   ]
  },
  {
   "cell_type": "markdown",
   "id": "d9777a1b-7f22-4a04-9167-585053dfe031",
   "metadata": {},
   "source": [
    "# Recursion"
   ]
  },
  {
   "cell_type": "code",
   "execution_count": 50,
   "id": "1c5b8898-e1f7-4093-aea7-09feb288922d",
   "metadata": {},
   "outputs": [
    {
     "name": "stdout",
     "output_type": "stream",
     "text": [
      "12\n"
     ]
    }
   ],
   "source": [
    "# we write above program through recursion in which loop is not used\n",
    "\n",
    "def multi(a,b):\n",
    "    if b==1:\n",
    "        return a\n",
    "    else:\n",
    "        return a+multi(a,b-1)\n",
    "print(multi(3,4))"
   ]
  },
  {
   "cell_type": "code",
   "execution_count": 51,
   "id": "76530783-50ea-42fa-b7b3-0724fa34a6b7",
   "metadata": {},
   "outputs": [
    {
     "name": "stdout",
     "output_type": "stream",
     "text": [
      "120\n"
     ]
    }
   ],
   "source": [
    "# Factorial using Recursion\n",
    "\n",
    "def fact(number):\n",
    "    if number==1:\n",
    "        return 1\n",
    "    else:\n",
    "        #5! = 5*4!\n",
    "        return number*fact(number-1)\n",
    "print(fact(5))"
   ]
  },
  {
   "cell_type": "code",
   "execution_count": 52,
   "id": "75b7ccc0-ba74-4f53-a8f2-51ef683e30ce",
   "metadata": {},
   "outputs": [
    {
     "name": "stdout",
     "output_type": "stream",
     "text": [
      "Palindrome\n",
      "None\n",
      "Palindrome\n",
      "None\n",
      "Not a Palindrome\n",
      "None\n",
      "Palindrome\n",
      "None\n"
     ]
    }
   ],
   "source": [
    "# Palindrome using Recursion\n",
    "# palindrome(reverse of string is same as string)\n",
    "\n",
    "def palin(text):\n",
    "    if len(text)<=1:\n",
    "        print(\"Palindrome\")\n",
    "    else:\n",
    "        if text[0]==text[-1]:\n",
    "            palin(text[1:-1])\n",
    "        else:\n",
    "            print(\"Not a Palindrome\")\n",
    "print(palin(\"madam\"))\n",
    "print(palin(\"malayalam\"))\n",
    "print(palin(\"hello\"))\n",
    "print(palin(\"abba\"))"
   ]
  },
  {
   "cell_type": "code",
   "execution_count": 53,
   "id": "80ff8136-dae3-42f0-b1c0-0111543618c5",
   "metadata": {},
   "outputs": [
    {
     "name": "stdout",
     "output_type": "stream",
     "text": [
      "233\n"
     ]
    }
   ],
   "source": [
    "# fibonaci (rabit)\n",
    "\n",
    "def fab(m):\n",
    "    if m==0 or m==1:\n",
    "        return 1\n",
    "    else:\n",
    "        return fab(m-1) + fab(m-2)\n",
    "print(fab(12))"
   ]
  },
  {
   "cell_type": "markdown",
   "id": "2f0461c5-e92f-46af-8769-f6498110ebe4",
   "metadata": {},
   "source": [
    "## Lambda Function"
   ]
  },
  {
   "cell_type": "code",
   "execution_count": 54,
   "id": "1896ab33-0d4c-4d32-83ee-dc159e7a0283",
   "metadata": {},
   "outputs": [
    {
     "name": "stdout",
     "output_type": "stream",
     "text": [
      "81\n",
      "6\n",
      "True\n",
      "Even\n"
     ]
    }
   ],
   "source": [
    "# Dfb lambda and funtion\n",
    "# 1.lambda fuction has no return value\n",
    "# 2.lambda function can be written in one line\n",
    "# 3.lambda function not use for code usability\n",
    "# 4.No name\n",
    "\n",
    "# why use lambda function.\n",
    "# Along with higher order functions(a function which need one more function in input to complete his work / or if a function return another fun)\n",
    "x = lambda x: x**2\n",
    "print(x(9))\n",
    "\n",
    "a=lambda x,y:x+y\n",
    "print(a(3,3))\n",
    "\n",
    "b = lambda x: x[0]=='a'\n",
    "print(b('apple'))\n",
    "\n",
    "c = lambda x: \"Even\" if x%2==0 else \"odd\"\n",
    "print(c(4))\n"
   ]
  },
  {
   "cell_type": "markdown",
   "id": "44f36442-ac96-4bb7-a59b-a50654fbef96",
   "metadata": {},
   "source": [
    "### Higher order function"
   ]
  },
  {
   "cell_type": "code",
   "execution_count": 55,
   "id": "f8a44845-3c3e-4a85-bfb4-941735d56b1c",
   "metadata": {},
   "outputs": [
    {
     "name": "stdout",
     "output_type": "stream",
     "text": [
      "176\n",
      "129\n",
      "144\n"
     ]
    }
   ],
   "source": [
    "# Higher order function\n",
    "def return_sum(fun,L):\n",
    "    result = 0\n",
    "    for i in L:\n",
    "        if fun(i):\n",
    "            result = result+i\n",
    "    return result\n",
    "L=[11,14,21,23,56,78,45,29,28]\n",
    "\n",
    "x = lambda x: x%2==0\n",
    "y = lambda x: x%2!=0\n",
    "z = lambda x: x%3==0\n",
    "\n",
    "print(return_sum(x,L))\n",
    "print(return_sum(y,L))\n",
    "print(return_sum(z,L))"
   ]
  },
  {
   "cell_type": "markdown",
   "id": "6ce47ad3-e340-4c09-b230-6e186d6c9061",
   "metadata": {},
   "source": [
    "### Built in functions of HOF (Map,Reduce,Filter)"
   ]
  },
  {
   "cell_type": "code",
   "execution_count": 56,
   "id": "607d6755-699d-4385-ae89-2abc3f07105c",
   "metadata": {},
   "outputs": [
    {
     "name": "stdout",
     "output_type": "stream",
     "text": [
      "[2, 4, 6, 8, 10, 12]\n",
      "[False, True, False, True, False, True]\n",
      "[{'name': 'doctor', 'age': 21}, {'name': 'hamza', 'age': 21}, {'name': 'zain', 'age': 33}]\n",
      "['doctor', 'hamza', 'zain']\n"
     ]
    }
   ],
   "source": [
    "# Map (operation on every item)\n",
    "\n",
    "l = [1,2,3,4,5,6]\n",
    "print(list(map(lambda x: x*2,l)))\n",
    "\n",
    "print(list(map(lambda x: x%2==0,l)))\n",
    "\n",
    "d = [\n",
    "    {'name':'doctor',\n",
    "     'age':21},\n",
    "    {'name':'hamza',\n",
    "     'age':21},\n",
    "    {'name':'zain',\n",
    "     'age':33}]\n",
    "print(d)\n",
    "print(list(map(lambda d:d['name'],d)))"
   ]
  },
  {
   "cell_type": "code",
   "execution_count": 57,
   "id": "af30590e-8eb9-4ca3-84e3-35f0c3bbebc7",
   "metadata": {},
   "outputs": [
    {
     "name": "stdout",
     "output_type": "stream",
     "text": [
      "[5, 8, 7]\n",
      "['apple', 'orange']\n"
     ]
    }
   ],
   "source": [
    "# Filter (filter things)\n",
    "\n",
    "l = [2,4,2,5,8,4,7]\n",
    "print(list(filter(lambda x:x>4,l)))\n",
    "\n",
    "fruit = ['apple','mango','bannana','orange']\n",
    "print(list(filter(lambda fruit:'e' in fruit,fruit)))"
   ]
  },
  {
   "cell_type": "code",
   "execution_count": 58,
   "id": "18146b48-a85d-47c3-b90b-218ef6795e19",
   "metadata": {},
   "outputs": [
    {
     "name": "stdout",
     "output_type": "stream",
     "text": [
      "28\n",
      "67\n",
      "12\n"
     ]
    }
   ],
   "source": [
    "# Reduce (reduce your list)\n",
    "\n",
    "import functools\n",
    "l = [1,2,3,4,5,6,7]\n",
    "print(functools.reduce(lambda x,y:x+y,l))\n",
    "\n",
    "l1 = [12,34,23,43,67]\n",
    "print(functools.reduce(lambda x,y:x if x>y else y,l1))\n",
    "\n",
    "print(functools.reduce(lambda x,y:x if x<y else y,l1))"
   ]
  },
  {
   "cell_type": "markdown",
   "id": "08383cc2-3cf7-4439-a2a5-6e7bf69cd1f6",
   "metadata": {},
   "source": [
    "# List Comprehension"
   ]
  },
  {
   "cell_type": "code",
   "execution_count": 59,
   "id": "84989722-250e-4faa-b3ca-ab86c9d4afcc",
   "metadata": {},
   "outputs": [
    {
     "name": "stdout",
     "output_type": "stream",
     "text": [
      "[2, 4, 6, 8, 10, 12, 14]\n",
      "[0, 1, 4, 9, 16, 25, 36, 49, 64, 81]\n",
      "[1, 9, 25, 49, 81]\n",
      "['orange']\n"
     ]
    }
   ],
   "source": [
    "l = [1,2,3,4,5,6,7]\n",
    "l1 = [item*2 for item in l]\n",
    "print(l1)\n",
    "\n",
    "l2 = [i**2 for i in range(10)]\n",
    "print(l2)\n",
    "\n",
    "l3 = [i**2 for i in range(10) if i%2!=0]\n",
    "print(l3)\n",
    "\n",
    "fruits = ['apple','orange','mange']\n",
    "l4 = [fruit for fruit in fruits if fruit[0]==\"o\"]\n",
    "print(l4)"
   ]
  },
  {
   "cell_type": "markdown",
   "id": "d334a3df-4f06-4c8d-9a70-2a6b4e0cab3b",
   "metadata": {},
   "source": [
    "# Dictionary Comprehension"
   ]
  },
  {
   "cell_type": "code",
   "execution_count": 60,
   "id": "f5c1523e-1b83-4b65-a18b-76af984b6b4b",
   "metadata": {},
   "outputs": [
    {
     "name": "stdout",
     "output_type": "stream",
     "text": [
      "{'name': 'doctor', 'gender': 'male'}\n",
      "{1: 1, 2: 4, 3: 9, 4: 16, 5: 25, 6: 36, 7: 49}\n",
      "{2: 4, 4: 16, 6: 36}\n"
     ]
    }
   ],
   "source": [
    "d = {'name':'doctor','age':21,'gender':'male'}\n",
    "d.items()\n",
    "\n",
    "d1 = {key:value for key,value in d.items() if len(key)>3}\n",
    "print(d1)\n",
    "\n",
    "l = [1,2,3,4,5,6,7]\n",
    "d2 = {item:item**2 for item in l}\n",
    "print(d2)\n",
    "\n",
    "d3 = {item:item**2 for item in l if item%2==0}\n",
    "print(d3)"
   ]
  },
  {
   "cell_type": "markdown",
   "id": "ca6d4d91-0a25-4868-93b7-ad25074d3150",
   "metadata": {},
   "source": [
    "# Iteration, Itrator, Itrable"
   ]
  },
  {
   "cell_type": "code",
   "execution_count": 65,
   "id": "6eeb174e-fa51-4d9b-a35c-fbb14ef33281",
   "metadata": {},
   "outputs": [
    {
     "name": "stdout",
     "output_type": "stream",
     "text": [
      "1\n",
      "2\n",
      "3\n",
      "2\n",
      "4\n",
      "6\n",
      "8\n",
      "10\n",
      "12\n",
      "14\n",
      "16\n",
      "18\n",
      "2.875\n",
      "2\n",
      "4\n",
      "6\n",
      "8\n",
      "10\n",
      "12\n",
      "14\n",
      "16\n",
      "18\n",
      "0.75\n"
     ]
    }
   ],
   "source": [
    "# Iterator is used in machine , deep learning when you have only 8 gb ram and you classify images you first create numpy array and than you \n",
    "# convert it into iterator because iterator only use one time memory at \n",
    "# Iteration (sequence of characters, loop to go over a sequence of items)\n",
    "num = [1,2,3]\n",
    "for i in num:\n",
    "    print(i)\n",
    "\n",
    "# Iterator (An iterator is an object that allows programmars to traverse through a sequence of data without having to store the entire data in \n",
    "# (the memory)\n",
    "l = [x for x in range(1,10)]\n",
    "for i in l:\n",
    "    print(i*2)\n",
    "import sys\n",
    "print(sys.getsizeof(l)/64)\n",
    "\n",
    "x = range(1,10)\n",
    "for i in x:\n",
    "    print(i*2)\n",
    "print(sys.getsizeof(x)/64)"
   ]
  },
  {
   "cell_type": "code",
   "execution_count": 68,
   "id": "b2f83ac7-0d42-44c2-a1a5-59229624b40f",
   "metadata": {},
   "outputs": [
    {
     "name": "stdout",
     "output_type": "stream",
     "text": [
      "<class 'list'>\n",
      "<class 'list_iterator'>\n"
     ]
    }
   ],
   "source": [
    "# Itrable (Itrable is an object which one can iterate over.)\n",
    "# It generates an iterator when pass to an iter() method.\n",
    "l = [1,2,3]\n",
    "print(type(l))\n",
    "\n",
    "# l is an iterable\n",
    "print(type(iter(l)))"
   ]
  },
  {
   "cell_type": "markdown",
   "id": "10b4a69b-46d1-4305-b8e4-c5ceb27e30b6",
   "metadata": {},
   "source": [
    "#### Point to remember\n",
    "##### Every iterator is also an iterable\n",
    "##### Not all iterables are iterators\n",
    "#### Trick\n",
    "##### Every iterable has an iter function\n",
    "##### Every iterator has both iter and next function"
   ]
  },
  {
   "cell_type": "code",
   "execution_count": 71,
   "id": "ca1667b0-a714-470f-bc38-2f6846db1e1a",
   "metadata": {},
   "outputs": [
    {
     "name": "stdout",
     "output_type": "stream",
     "text": [
      "['__add__', '__class__', '__class_getitem__', '__contains__', '__delattr__', '__delitem__', '__dir__', '__doc__', '__eq__', '__format__', '__ge__', '__getattribute__', '__getitem__', '__getstate__', '__gt__', '__hash__', '__iadd__', '__imul__', '__init__', '__init_subclass__', '__iter__', '__le__', '__len__', '__lt__', '__mul__', '__ne__', '__new__', '__reduce__', '__reduce_ex__', '__repr__', '__reversed__', '__rmul__', '__setattr__', '__setitem__', '__sizeof__', '__str__', '__subclasshook__', 'append', 'clear', 'copy', 'count', 'extend', 'index', 'insert', 'pop', 'remove', 'reverse', 'sort']\n",
      "['__class__', '__delattr__', '__dir__', '__doc__', '__eq__', '__format__', '__ge__', '__getattribute__', '__getstate__', '__gt__', '__hash__', '__init__', '__init_subclass__', '__iter__', '__le__', '__length_hint__', '__lt__', '__ne__', '__new__', '__next__', '__reduce__', '__reduce_ex__', '__repr__', '__setattr__', '__setstate__', '__sizeof__', '__str__', '__subclasshook__']\n"
     ]
    }
   ],
   "source": [
    "# it is iterable because of 'iter' function in it but not a iterator.\n",
    "\n",
    "t = [1,2,3]\n",
    "print(dir(t))\n",
    "\n",
    "l = [1,2,3]\n",
    "\n",
    "# l is not a iterator but if\n",
    "print(dir(iter(l)))"
   ]
  },
  {
   "cell_type": "markdown",
   "id": "4f7ac9d6-9033-4399-a3b5-38ca61465568",
   "metadata": {},
   "source": [
    "# Understanding how for loops works"
   ]
  },
  {
   "cell_type": "code",
   "execution_count": 72,
   "id": "44d2b6e3-78a0-4083-92fe-85209662ceb7",
   "metadata": {},
   "outputs": [
    {
     "name": "stdout",
     "output_type": "stream",
     "text": [
      "1\n",
      "2\n",
      "3\n"
     ]
    }
   ],
   "source": [
    "num = [1,2,3]\n",
    "for i in num:\n",
    "    print(i)"
   ]
  },
  {
   "cell_type": "code",
   "execution_count": 78,
   "id": "cb1bafd0-2b5a-42a6-91c2-18e845334d99",
   "metadata": {},
   "outputs": [
    {
     "data": {
      "text/plain": [
       "1"
      ]
     },
     "execution_count": 78,
     "metadata": {},
     "output_type": "execute_result"
    }
   ],
   "source": [
    "num = [1,2,3]\n",
    "\n",
    "# fetch the iterator\n",
    "iter_num = iter(num)\n",
    "\n",
    "# step 2: next\n",
    "next(iter(num))\n",
    "next(iter(num))\n",
    "next(iter(num))"
   ]
  },
  {
   "cell_type": "markdown",
   "id": "78467e34-22f6-4fe7-894c-cd5025d1378c",
   "metadata": {},
   "source": [
    "# Making our own for loop"
   ]
  },
  {
   "cell_type": "code",
   "execution_count": 82,
   "id": "49a4ff99-8c65-4190-bbc7-c6eb320e66f4",
   "metadata": {},
   "outputs": [
    {
     "name": "stdout",
     "output_type": "stream",
     "text": [
      "1\n",
      "2\n",
      "3\n",
      "None\n",
      "1\n",
      "2\n",
      "3\n",
      "4\n",
      "5\n",
      "6\n",
      "7\n",
      "8\n",
      "9\n",
      "10\n",
      "None\n",
      "1\n",
      "2\n",
      "3\n",
      "None\n",
      "1\n",
      "2\n",
      "3\n",
      "None\n"
     ]
    }
   ],
   "source": [
    "def mera_khud_ka_for_loop(iterable):\n",
    "\n",
    "    iterator = iter(iterable)\n",
    "    while True:\n",
    "        try:\n",
    "            print(next(iterator))\n",
    "        except StopIteration:\n",
    "            break\n",
    "\n",
    "a = [1,2,3]\n",
    "b = range(1,11)\n",
    "c = (1,2,3)\n",
    "d = {1,2,3}\n",
    "e = {0:1,1:1}\n",
    "\n",
    "print(mera_khud_ka_for_loop(a))\n",
    "print(mera_khud_ka_for_loop(b))\n",
    "print(mera_khud_ka_for_loop(c))\n",
    "print(mera_khud_ka_for_loop(d))\n",
    "            "
   ]
  },
  {
   "cell_type": "code",
   "execution_count": 19,
   "id": "a2abbb84-83e8-4ac7-94d0-2266839ead1f",
   "metadata": {},
   "outputs": [
    {
     "name": "stdout",
     "output_type": "stream",
     "text": [
      "1234\n",
      "['4', '3', '2', '1']\n",
      "4321\n",
      "<class 'str'>\n",
      "4321\n",
      "<class 'int'>\n"
     ]
    },
    {
     "name": "stdin",
     "output_type": "stream",
     "text": [
      "Enter the number 3578\n"
     ]
    },
    {
     "name": "stdout",
     "output_type": "stream",
     "text": [
      "8753\n"
     ]
    }
   ],
   "source": [
    "num = '1234'\n",
    "print(num)\n",
    "num = sorted(num, reverse=True)\n",
    "print(num)\n",
    "num = ''.join(num)\n",
    "print(num)\n",
    "print(type(num))\n",
    "num = int(num)\n",
    "print(num)\n",
    "print(type(num))\n",
    "\n",
    "num=int(input(\"Enter the number\"))\n",
    "print(str(num)[::-1])"
   ]
  },
  {
   "cell_type": "code",
   "execution_count": 18,
   "id": "9e23a578-647e-472e-bd73-83cb1085513c",
   "metadata": {},
   "outputs": [
    {
     "name": "stdin",
     "output_type": "stream",
     "text": [
      "Enter a three digit number 336\n"
     ]
    },
    {
     "name": "stdout",
     "output_type": "stream",
     "text": [
      "[3, 3, 6]\n",
      "12\n"
     ]
    }
   ],
   "source": [
    "num = input(\"Enter a three digit number\")\n",
    "l =[]\n",
    "for i in num:\n",
    "    l.append(int(i))\n",
    "print(l)\n",
    "print(sum(l))"
   ]
  },
  {
   "cell_type": "code",
   "execution_count": 20,
   "id": "1b87aff3-61e2-4e1e-a86e-d619092e8ea7",
   "metadata": {},
   "outputs": [
    {
     "name": "stdin",
     "output_type": "stream",
     "text": [
      "Enter a number: 4\n"
     ]
    },
    {
     "name": "stdout",
     "output_type": "stream",
     "text": [
      "Even\n"
     ]
    }
   ],
   "source": [
    "num = int(input(\"Enter a number:\"))\n",
    "if num%2==0:\n",
    "    print(\"Even\")\n",
    "else:\n",
    "    print(\"odd\")"
   ]
  },
  {
   "cell_type": "code",
   "execution_count": 21,
   "id": "4e176d73-b1e7-49cc-859e-b991e3d53da5",
   "metadata": {},
   "outputs": [
    {
     "name": "stdin",
     "output_type": "stream",
     "text": [
      "Enter a year 2024\n"
     ]
    },
    {
     "name": "stdout",
     "output_type": "stream",
     "text": [
      "leap year\n"
     ]
    }
   ],
   "source": [
    "year = int(input(\"Enter a year\"))\n",
    "if year%4==0:\n",
    "    print(\"leap year\")\n",
    "else:\n",
    "    print(\"no\")"
   ]
  },
  {
   "cell_type": "code",
   "execution_count": 25,
   "id": "db706b73-e04d-4ab9-855c-d2aa589ca6ae",
   "metadata": {},
   "outputs": [
    {
     "name": "stdin",
     "output_type": "stream",
     "text": [
      "Enter angle 1 40\n",
      "Enter angle 2 50\n",
      "Enter angle 3 90\n"
     ]
    },
    {
     "name": "stdout",
     "output_type": "stream",
     "text": [
      "it is a trinagle\n"
     ]
    }
   ],
   "source": [
    "angle_1 = int(input(\"Enter angle 1\"))\n",
    "angle_2 = int(input(\"Enter angle 2\"))\n",
    "angle_3 = int(input(\"Enter angle 3\"))\n",
    "angle_sum = angle_1+angle_2+angle_3\n",
    "if angle_sum == 180:\n",
    "    print(\"it is a trinagle\")\n",
    "else:\n",
    "    print(\"not a triangle\")"
   ]
  },
  {
   "cell_type": "code",
   "execution_count": 27,
   "id": "2b3fc16b-d4fe-4ebb-b003-0008ca7e91c2",
   "metadata": {},
   "outputs": [
    {
     "name": "stdin",
     "output_type": "stream",
     "text": [
      "Enter cost price: 700\n",
      "Enter selling price: 477\n"
     ]
    },
    {
     "name": "stdout",
     "output_type": "stream",
     "text": [
      "loss\n",
      "loss is:223 rupees.\n"
     ]
    }
   ],
   "source": [
    "cost_price = int(input(\"Enter cost price:\"))\n",
    "selling_price = int(input(\"Enter selling price:\"))\n",
    "if cost_price<selling_price:\n",
    "    print(\"profit\")\n",
    "    print(f\"profit is:{selling_price-cost_price} rupees.\")\n",
    "else:\n",
    "    print(\"loss\")\n",
    "    print(f\"loss is:{cost_price-selling_price} rupees.\")"
   ]
  },
  {
   "cell_type": "code",
   "execution_count": null,
   "id": "ee6b61cd-6b43-46bf-b05e-190a875e662f",
   "metadata": {},
   "outputs": [],
   "source": []
  }
 ],
 "metadata": {
  "kernelspec": {
   "display_name": "Python 3 (ipykernel)",
   "language": "python",
   "name": "python3"
  },
  "language_info": {
   "codemirror_mode": {
    "name": "ipython",
    "version": 3
   },
   "file_extension": ".py",
   "mimetype": "text/x-python",
   "name": "python",
   "nbconvert_exporter": "python",
   "pygments_lexer": "ipython3",
   "version": "3.12.3"
  }
 },
 "nbformat": 4,
 "nbformat_minor": 5
}
